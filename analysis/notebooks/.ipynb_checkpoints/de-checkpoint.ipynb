{
 "cells": [
  {
   "cell_type": "markdown",
   "id": "01e63558",
   "metadata": {},
   "source": [
    "### Libraries"
   ]
  },
  {
   "cell_type": "code",
   "execution_count": 10,
   "id": "64c8ed36",
   "metadata": {},
   "outputs": [],
   "source": [
    "#import packages for analysis\n",
    "import pandas as pd\n",
    "import matplotlib.pyplot as plt\n",
    "import seaborn as sns\n",
    "import matplotlib.font_manager as fm\n",
    "from matplotlib.lines import Line2D\n",
    "from numpy import log10\n",
    "import numpy as np\n",
    "import matplotlib.patches as mpatches\n",
    "import scipy.stats\n",
    "from scipy.optimize import curve_fit\n",
    "from sklearn.metrics import r2_score \n",
    "import numpy as np\n",
    "import json\n",
    "from matplotlib.ticker import FuncFormatter\n",
    "import matplotlib.colors as mcolors\n",
    "from gnat import misc_utils\n",
    "from gnat import error_calculator\n",
    "from gnat import rarefaction\n",
    "from gnat import gtf_tools\n",
    "from gnat import kegg_tools"
   ]
  },
  {
   "cell_type": "markdown",
   "id": "d5fdcb37",
   "metadata": {},
   "source": [
    "### Functions"
   ]
  },
  {
   "cell_type": "code",
   "execution_count": 66,
   "id": "ad3ca2ed",
   "metadata": {},
   "outputs": [],
   "source": [
    "#A function to get the protein id from gene ids\n",
    "def extract_protid(value):\n",
    "    parts = value.split('_')\n",
    "    if len(parts) >= 4:\n",
    "        return parts[2]\n",
    "    else:\n",
    "        return None\n",
    "    \n",
    "#A function to load differential expression data\n",
    "def load_de_data(dge_file, gene_list):\n",
    "    #read csv\n",
    "    df = pd.read_csv(dge_file, index_col=0)\n",
    "    #rename index to protein ids\n",
    "    df.index = df.index.map(extract_protid)\n",
    "    #add column for significantly up or down\n",
    "    df[\"regulation\"] = df.index\n",
    "    #if FDR is less than cutoff and logFC is greater than 0, regulation = up\n",
    "    df.loc[(df['FDR'] <= 0.01) & (df['logFC'] > 0), 'regulation'] = 'up'\n",
    "    #if FDR is less than cutoff and logFC is less than 0, regulation = down\n",
    "    df.loc[(df['FDR'] <= 0.01) & (df['logFC'] < 0), 'regulation'] = 'down'\n",
    "    #if FDR is greater than cutoff, regulation = NA\n",
    "    df.loc[df['FDR'] > 0.01, 'regulation'] = 'NA'\n",
    "    #add column specifying homologous gene status\n",
    "    df[\"Homolog_status\"] = df.index\n",
    "    #iterate through ids\n",
    "    for id in list(df.index):\n",
    "        if id in gene_list:\n",
    "            df.loc[id, \"Homolog_status\"] = \"Duplicate\"\n",
    "        else:\n",
    "            df.loc[id, \"Homolog_status\"] = \"Singleton\"\n",
    "    return df\n",
    "\n",
    "#A function to quantify the proportion of duplicate vs singleton genes differentially expressed\n",
    "def quantify_proportions(de_data, duplicate_list):\n",
    "    #define totals\n",
    "    total_duplicates = len(duplicate_list)\n",
    "    total_genes = len(de_data)\n",
    "    total_singleton = total_genes - total_duplicates\n",
    "    #get only differentially expressed genes\n",
    "    de_only_data = de_data.loc[de_data['regulation'] != 'NA']\n",
    "    #get number of de duplicates\n",
    "    de_duplicate_count = de_only_data['Homolog_status'].value_counts().get('Duplicate', 0)\n",
    "    #get number of de singletons \n",
    "    de_singleton_count = de_only_data['Homolog_status'].value_counts().get('Singleton', 0)\n",
    "    #get proportion of duplicates de\n",
    "    duplicate_de_proportion = de_duplicate_count / total_duplicates\n",
    "    #get proportion of singletons de\n",
    "    singleton_de_proporiton = de_singleton_count / total_singleton\n",
    "    #get proportion of total duplicate\n",
    "    duplicate_proportion_of_total = de_duplicate_count / total_genes\n",
    "    #get proportion of total dsingleton\n",
    "    singleton_proportion_of_total = de_singleton_count / total_genes\n",
    "    #assemble output\n",
    "    de_proportions = {'de_Duplicate' : duplicate_de_proportion, 'de_Singleton' : singleton_de_proporiton,\n",
    "                     'prop_total_Duplicate' : duplicate_proportion_of_total, 'prop_total_singleton' : singleton_proportion_of_total}\n",
    "    return de_proportions"
   ]
  },
  {
   "cell_type": "code",
   "execution_count": 67,
   "id": "e60336e2",
   "metadata": {
    "scrolled": false
   },
   "outputs": [],
   "source": [
    "#read homologous groupings\n",
    "with open('/home/gabe/Desktop/mtstp/data/intermediate_data/gene_cluster_diversity_analysis/psiblast_id-30_e-neg-10_cov-1_sequence_clusters.json') as infile:\n",
    "    group_data = json.load(infile)\n",
    "\n",
    "#a list to store homologous gene ids\n",
    "homologous_genes = []\n",
    "for group in group_data:\n",
    "    gene_ids = group_data[group]\n",
    "    for gene_id in gene_ids:\n",
    "        if gene_id not in homologous_genes:\n",
    "            homologous_genes.append(gene_id)\n",
    "\n",
    "#third to fifth\n",
    "third_to_fifth_de_data = load_de_data('/home/gabe/Desktop/mtstp/data/intermediate_data/dge/third_to_fifth.csv', homologous_genes)\n",
    "third_to_fifth_proportions = quantify_proportions(third_to_fifth_de_data, homologous_genes)\n",
    "\n",
    "#fifth to early \n",
    "fifth_to_early_de_data = load_de_data('/home/gabe/Desktop/mtstp/data/intermediate_data/dge/fifth_to_early.csv', homologous_genes)\n",
    "fifth_to_early_proportions = quantify_proportions(fifth_to_early_de_data, homologous_genes)\n",
    "\n",
    "#early to late\n",
    "early_to_late_de_data = load_de_data('/home/gabe/Desktop/mtstp/data/intermediate_data/dge/early_to_late.csv', homologous_genes)\n",
    "early_to_late_proportions = quantify_proportions(early_to_late_de_data, homologous_genes)\n",
    "\n",
    "#late to adult\n",
    "late_to_adult_de_data = load_de_data('/home/gabe/Desktop/mtstp/data/intermediate_data/dge/early_to_late.csv', homologous_genes)\n",
    "late_to_adult_proportions = quantify_proportions(late_to_adult_de_data, homologous_genes)\n"
   ]
  },
  {
   "cell_type": "code",
   "execution_count": 68,
   "id": "c41d1361",
   "metadata": {},
   "outputs": [
    {
     "name": "stdout",
     "output_type": "stream",
     "text": [
      "{'de_Duplicate': 0.25886745488487867, 'de_Singleton': 0.34888253638253636, 'prop_total_Duplicate': 0.0762603116406966, 'prop_total_singleton': 0.2461044912923923}\n",
      "{'de_Duplicate': 0.36185438705662726, 'de_Singleton': 0.4518058161350844, 'prop_total_Duplicate': 0.09904615908703798, 'prop_total_singleton': 0.3281383069323795}\n",
      "{'de_Duplicate': 0.3329184816428127, 'de_Singleton': 0.4144336861067327, 'prop_total_Duplicate': 0.08845899470899471, 'prop_total_singleton': 0.30431547619047616}\n",
      "{'de_Duplicate': 0.3329184816428127, 'de_Singleton': 0.4144336861067327, 'prop_total_Duplicate': 0.08845899470899471, 'prop_total_singleton': 0.30431547619047616}\n"
     ]
    }
   ],
   "source": [
    "print(third_to_fifth_proportions)\n",
    "print(fifth_to_early_proportions)\n",
    "print(early_to_late_proportions)\n",
    "print(late_to_adult_proportions)"
   ]
  }
 ],
 "metadata": {
  "kernelspec": {
   "display_name": "Python 3 (ipykernel)",
   "language": "python",
   "name": "python3"
  },
  "language_info": {
   "codemirror_mode": {
    "name": "ipython",
    "version": 3
   },
   "file_extension": ".py",
   "mimetype": "text/x-python",
   "name": "python",
   "nbconvert_exporter": "python",
   "pygments_lexer": "ipython3",
   "version": "3.9.13"
  }
 },
 "nbformat": 4,
 "nbformat_minor": 5
}
