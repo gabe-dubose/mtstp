{
 "cells": [
  {
   "cell_type": "markdown",
   "id": "1db170e7",
   "metadata": {},
   "source": [
    "### Libraries"
   ]
  },
  {
   "cell_type": "code",
   "execution_count": 1,
   "id": "3906b39c",
   "metadata": {},
   "outputs": [],
   "source": [
    "import pandas as pd\n",
    "import matplotlib.pyplot as plt\n",
    "import seaborn as sns\n",
    "from matplotlib.lines import Line2D\n",
    "from scipy.stats import linregress\n",
    "import json\n",
    "import math\n",
    "from collections import Counter\n",
    "import numpy as np\n",
    "from scipy.optimize import curve_fit\n",
    "import statistics as stat\n",
    "import matplotlib.colors as mcolors\n",
    "from scipy.stats import mannwhitneyu\n",
    "import matplotlib.lines as mlines\n",
    "from sklearn.linear_model import LinearRegression\n",
    "from scipy import stats"
   ]
  },
  {
   "cell_type": "markdown",
   "id": "ea113b11",
   "metadata": {},
   "source": [
    "### PSI-BLAST 5 (E-value cutoff = e-10, %identity cutoff = 30%, query coverage cutoff = 1)\n",
    "\n",
    "To test that phylogenetic distance positively correlates with expression distance within homologous groups, I ran Mantel tests using the following script:\n",
    "\n",
    "    within_homologous_group_correlation.R"
   ]
  },
  {
   "cell_type": "markdown",
   "id": "f6da5e1e",
   "metadata": {},
   "source": [
    "### Data Loading"
   ]
  },
  {
   "cell_type": "code",
   "execution_count": 2,
   "id": "8c829529",
   "metadata": {
    "scrolled": false
   },
   "outputs": [
    {
     "data": {
      "text/html": [
       "<div>\n",
       "<style scoped>\n",
       "    .dataframe tbody tr th:only-of-type {\n",
       "        vertical-align: middle;\n",
       "    }\n",
       "\n",
       "    .dataframe tbody tr th {\n",
       "        vertical-align: top;\n",
       "    }\n",
       "\n",
       "    .dataframe thead th {\n",
       "        text-align: right;\n",
       "    }\n",
       "</style>\n",
       "<table border=\"1\" class=\"dataframe\">\n",
       "  <thead>\n",
       "    <tr style=\"text-align: right;\">\n",
       "      <th></th>\n",
       "      <th>Unnamed: 0</th>\n",
       "      <th>r</th>\n",
       "      <th>p</th>\n",
       "    </tr>\n",
       "  </thead>\n",
       "  <tbody>\n",
       "    <tr>\n",
       "      <th>0</th>\n",
       "      <td>1</td>\n",
       "      <td>0.324433</td>\n",
       "      <td>0.001000</td>\n",
       "    </tr>\n",
       "    <tr>\n",
       "      <th>1</th>\n",
       "      <td>2</td>\n",
       "      <td>0.097667</td>\n",
       "      <td>0.010000</td>\n",
       "    </tr>\n",
       "    <tr>\n",
       "      <th>2</th>\n",
       "      <td>3</td>\n",
       "      <td>-0.113543</td>\n",
       "      <td>0.751000</td>\n",
       "    </tr>\n",
       "    <tr>\n",
       "      <th>3</th>\n",
       "      <td>4</td>\n",
       "      <td>0.565224</td>\n",
       "      <td>0.333333</td>\n",
       "    </tr>\n",
       "    <tr>\n",
       "      <th>4</th>\n",
       "      <td>5</td>\n",
       "      <td>0.357646</td>\n",
       "      <td>0.001000</td>\n",
       "    </tr>\n",
       "    <tr>\n",
       "      <th>...</th>\n",
       "      <td>...</td>\n",
       "      <td>...</td>\n",
       "      <td>...</td>\n",
       "    </tr>\n",
       "    <tr>\n",
       "      <th>117</th>\n",
       "      <td>118</td>\n",
       "      <td>-0.021434</td>\n",
       "      <td>0.425000</td>\n",
       "    </tr>\n",
       "    <tr>\n",
       "      <th>118</th>\n",
       "      <td>119</td>\n",
       "      <td>0.774573</td>\n",
       "      <td>0.125000</td>\n",
       "    </tr>\n",
       "    <tr>\n",
       "      <th>119</th>\n",
       "      <td>120</td>\n",
       "      <td>-0.543726</td>\n",
       "      <td>0.958333</td>\n",
       "    </tr>\n",
       "    <tr>\n",
       "      <th>120</th>\n",
       "      <td>121</td>\n",
       "      <td>0.163143</td>\n",
       "      <td>0.198611</td>\n",
       "    </tr>\n",
       "    <tr>\n",
       "      <th>121</th>\n",
       "      <td>122</td>\n",
       "      <td>0.096184</td>\n",
       "      <td>0.500000</td>\n",
       "    </tr>\n",
       "  </tbody>\n",
       "</table>\n",
       "<p>122 rows × 3 columns</p>\n",
       "</div>"
      ],
      "text/plain": [
       "     Unnamed: 0         r         p\n",
       "0             1  0.324433  0.001000\n",
       "1             2  0.097667  0.010000\n",
       "2             3 -0.113543  0.751000\n",
       "3             4  0.565224  0.333333\n",
       "4             5  0.357646  0.001000\n",
       "..          ...       ...       ...\n",
       "117         118 -0.021434  0.425000\n",
       "118         119  0.774573  0.125000\n",
       "119         120 -0.543726  0.958333\n",
       "120         121  0.163143  0.198611\n",
       "121         122  0.096184  0.500000\n",
       "\n",
       "[122 rows x 3 columns]"
      ]
     },
     "execution_count": 2,
     "metadata": {},
     "output_type": "execute_result"
    }
   ],
   "source": [
    "data = pd.read_csv('/home/gabe/Desktop/mtstp/data/intermediate_data/gene_cluster_diversity_analysis/phylogenetic_vs_expression_distance.csv')\n",
    "data"
   ]
  },
  {
   "cell_type": "code",
   "execution_count": 6,
   "id": "e56fba8a",
   "metadata": {},
   "outputs": [
    {
     "name": "stdout",
     "output_type": "stream",
     "text": [
      "Positive correlation % = 0.7213114754098361\n",
      "Negative or null correlation % = 0.2786885245901639\n"
     ]
    }
   ],
   "source": [
    "#count number of positive associations\n",
    "correlation_coefficients = list(data['r'])\n",
    "positive = 0\n",
    "for coefficient in correlation_coefficients:\n",
    "    if coefficient > 0:\n",
    "        positive += 1\n",
    "print(f\"Positive correlation % = {positive / len(correlation_coefficients)}\")\n",
    "print(f\"Negative or null correlation % = {(len(correlation_coefficients) - positive) / len(correlation_coefficients)}\")"
   ]
  },
  {
   "cell_type": "markdown",
   "id": "05f89345",
   "metadata": {},
   "source": [
    "### Make plots"
   ]
  },
  {
   "cell_type": "code",
   "execution_count": 16,
   "id": "d06a3cc9",
   "metadata": {},
   "outputs": [
    {
     "data": {
      "image/png": "[encoded data removed]",
      "text/plain": [
       "<Figure size 500x500 with 1 Axes>"
      ]
     },
     "metadata": {},
     "output_type": "display_data"
    }
   ],
   "source": [
    "sns.set_style('whitegrid')\n",
    "sns.set_palette('tab10')\n",
    "\n",
    "#plot\n",
    "fig, ax1 = plt.subplots(1, 1, figsize=(5, 5))\n",
    "\n",
    "#A\n",
    "sns.ecdfplot(data=data, x=\"r\", ax=ax1, linewidth=3, color='black')\n",
    "ax1.set_xlabel(r'Correlation coefficient ($r_M$)', fontsize = 20)\n",
    "ax1.set_ylabel('Cumulative density', fontsize = 20)\n",
    "ax1.tick_params(axis='x', labelsize=20)\n",
    "ax1.tick_params(axis='y', labelsize=20)\n",
    "ax1.set_xlim(-1,1)\n",
    "plt.tight_layout()\n",
    "\n",
    "plt.savefig('/home/gabe/Desktop/mtstp/figures/primary/distance_correlations_ecdf.pdf')"
   ]
  }
 ],
 "metadata": {
  "kernelspec": {
   "display_name": "Python 3 (ipykernel)",
   "language": "python",
   "name": "python3"
  },
  "language_info": {
   "codemirror_mode": {
    "name": "ipython",
    "version": 3
   },
   "file_extension": ".py",
   "mimetype": "text/x-python",
   "name": "python",
   "nbconvert_exporter": "python",
   "pygments_lexer": "ipython3",
   "version": "3.9.13"
  }
 },
 "nbformat": 4,
 "nbformat_minor": 5
}
